{
 "cells": [
  {
   "cell_type": "code",
   "execution_count": null,
   "metadata": {},
   "outputs": [
    {
     "name": "stdout",
     "output_type": "stream",
     "text": [
      "The autoreload extension is already loaded. To reload it, use:\n",
      "  %reload_ext autoreload\n"
     ]
    }
   ],
   "source": [
    "%load_ext autoreload\n",
    "%autoreload 2"
   ]
  },
  {
   "cell_type": "code",
   "execution_count": null,
   "metadata": {},
   "outputs": [],
   "source": [
    "# default_exp optionsseasonal"
   ]
  },
  {
   "cell_type": "markdown",
   "metadata": {},
   "source": [
    "# optionsseasonal\n",
    "\n",
    "> seasonal equity performance is used to guestimate performance probability"
   ]
  },
  {
   "cell_type": "code",
   "execution_count": null,
   "metadata": {},
   "outputs": [],
   "source": [
    "#hide\n",
    "from nbdev.showdoc import *\n",
    "from hesap.pricedata import get_history_yf, get_history"
   ]
  },
  {
   "cell_type": "code",
   "execution_count": null,
   "metadata": {},
   "outputs": [],
   "source": [
    "#export\n",
    "\n",
    "\"\"\"This module contains methods to create and update daily price and weekly\n",
    "performance for the desired assets locally. Also for a given week, the most\n",
    "optimal assets (with highest performance probability based on the history)\n",
    "are identified for possible MattChoi's type option strategy.\n",
    "by faf\n",
    "Copyright 2021 Fafs\n",
    "License: http://creativecommons.org/licenses/by/4.0/\n",
    "\"\"\"\n",
    "\n",
    "import os\n",
    "\n",
    "import numpy as np\n",
    "import pandas as pd\n",
    "\n",
    "from typing import List\n",
    "\n",
    "\n",
    "def weekly_returns(df):\n",
    "    \"\"\"\n",
    "    Processes the daily adjusted close prices to produce 35 to 45 week forward\n",
    "    performances\n",
    "    \"\"\"\n",
    "    df.loc[:, 'year'] = df.index.isocalendar().year\n",
    "    df.loc[:, 'week'] = pd.Int64Index(df.index.isocalendar().week)\n",
    "    for n in range(35, 46):\n",
    "        df.loc[:, f'forward{n}'] = df.loc[:, 'adj_close'].shift(-n) / df.loc[:, 'adj_close']\n",
    "\n",
    "    rets, forwards, means = {}, {}, []\n",
    "    for week in range(2, 52):\n",
    "        if week not in df.week.unique(): continue\n",
    "        forwards[week] = df.loc[df.week == week,\n",
    "                                ['forward35', 'forward36', 'forward37',\n",
    "                                 'forward38', 'forward39', 'forward40',\n",
    "                                 'forward41', 'forward42', 'forward43',\n",
    "                                 'forward44', 'forward45', 'year']]\n",
    "\n",
    "        years = sorted(forwards[week].year.unique())\n",
    "        rets[week] = []\n",
    "        for year in years:\n",
    "            returns = []\n",
    "            for n in range(35,46):\n",
    "                returns.extend(forwards[week].loc[(forwards[week].year == year), f'forward{n}'].tolist())\n",
    "            rets[week].append({\n",
    "                'year': year,\n",
    "                'min': min(returns),\n",
    "                'max': max(returns),\n",
    "                'mean': np.mean(returns),\n",
    "                'std': np.std(returns),\n",
    "                'up_conf': np.sum([1 for r in returns if r > 1]) / len(returns) * 100,\n",
    "                'dn_conf': np.sum([1 for r in returns if r < 1]) / len(returns) * 100\n",
    "            })\n",
    "        rets[week] = pd.DataFrame(rets[week])\n",
    "\n",
    "        up_mean = round(rets[week].up_conf.mean(), 2)\n",
    "        dn_mean = round(rets[week].dn_conf.mean(), 2)\n",
    "        means.append({'week': week, 'up_mean': up_mean, 'dn_mean': dn_mean})\n",
    "        if up_mean > 80 or dn_mean > 80:\n",
    "            print(f'{week:2}:\\t{up_mean}\\t{dn_mean}')\n",
    "    return rets, means\n",
    "\n",
    "\n",
    "def build_weekly_db(tickers: List[str],\n",
    "                    db_path: str,\n",
    "                    start_date: str = '2000-01-01'\n",
    "                   ) -> None:\n",
    "    if tickers is None or len(tickers) == 0: return\n",
    "    for d in [db_path, f'{db_path}/prices', f'{db_path}/rets',\n",
    "              f'{db_path}/mean_rets']:\n",
    "        os.makedirs(d, exist_ok=True)\n",
    "    for i, ticker in enumerate(tickers):\n",
    "        prices = get_history_yf(ticker.replace('.', '-'),\n",
    "                                start_date=start_date)\n",
    "        prices.to_csv(f'{db_path}/prices/{ticker}.csv')\n",
    "        print(f'={i+1:4}{\"=\"*4}{ticker:4}{\"=\"*20}')\n",
    "        rets, means = weekly_returns(prices)\n",
    "\n",
    "        try:\n",
    "            pd.DataFrame.from_dict(data=rets, orient='index').to_csv(f'{db_path}/rets/{ticker}.csv', header=False)\n",
    "            pd.DataFrame(means).to_csv(f'{db_path}/mean_rets/{ticker}.csv')\n",
    "        except:\n",
    "            print(f'could not create dataframe for {ticker}')"
   ]
  },
  {
   "cell_type": "code",
   "execution_count": null,
   "metadata": {},
   "outputs": [
    {
     "name": "stdout",
     "output_type": "stream",
     "text": [
      "[*********************100%***********************]  1 of 1 completed\n",
      "=   1====VNT ====================\n",
      " 2:\t0.0\t100.0\n",
      " 3:\t0.0\t100.0\n",
      " 4:\t0.0\t100.0\n",
      " 5:\t0.0\t100.0\n",
      " 6:\t0.0\t100.0\n",
      " 7:\t4.55\t95.45\n",
      "10:\t98.18\t1.82\n",
      "11:\t100.0\t0.0\n",
      "12:\t100.0\t0.0\n",
      "13:\t100.0\t0.0\n",
      "14:\t98.18\t0.0\n",
      "39:\t9.09\t90.91\n",
      "42:\t100.0\t0.0\n",
      "43:\t100.0\t0.0\n",
      "44:\t100.0\t0.0\n",
      "45:\t100.0\t0.0\n",
      "46:\t100.0\t0.0\n",
      "47:\t100.0\t0.0\n",
      "50:\t98.18\t1.82\n",
      "could not create dataframe for VNT\n",
      "[*********************100%***********************]  1 of 1 completed\n",
      "=   2====VNO ====================\n"
     ]
    },
    {
     "name": "stderr",
     "output_type": "stream",
     "text": [
      "/Users/fahrisurucu/opt/anaconda3/envs/fsx_env/lib/python3.7/site-packages/pandas/core/internals/construction.py:309: VisibleDeprecationWarning: Creating an ndarray from ragged nested sequences (which is a list-or-tuple of lists-or-tuples-or ndarrays with different lengths or shapes) is deprecated. If you meant to do this, you must specify 'dtype=object' when creating the ndarray.\n",
      "  values = np.array([convert(v) for v in values])\n"
     ]
    },
    {
     "name": "stdout",
     "output_type": "stream",
     "text": [
      "[*********************100%***********************]  1 of 1 completed\n",
      "=   3====VMC ====================\n"
     ]
    },
    {
     "name": "stderr",
     "output_type": "stream",
     "text": [
      "/Users/fahrisurucu/opt/anaconda3/envs/fsx_env/lib/python3.7/site-packages/pandas/core/internals/construction.py:309: VisibleDeprecationWarning: Creating an ndarray from ragged nested sequences (which is a list-or-tuple of lists-or-tuples-or ndarrays with different lengths or shapes) is deprecated. If you meant to do this, you must specify 'dtype=object' when creating the ndarray.\n",
      "  values = np.array([convert(v) for v in values])\n"
     ]
    },
    {
     "name": "stdout",
     "output_type": "stream",
     "text": [
      "[*********************100%***********************]  1 of 1 completed\n",
      "=   4====WRB ====================\n"
     ]
    },
    {
     "name": "stderr",
     "output_type": "stream",
     "text": [
      "/Users/fahrisurucu/opt/anaconda3/envs/fsx_env/lib/python3.7/site-packages/pandas/core/internals/construction.py:309: VisibleDeprecationWarning: Creating an ndarray from ragged nested sequences (which is a list-or-tuple of lists-or-tuples-or ndarrays with different lengths or shapes) is deprecated. If you meant to do this, you must specify 'dtype=object' when creating the ndarray.\n",
      "  values = np.array([convert(v) for v in values])\n"
     ]
    },
    {
     "name": "stdout",
     "output_type": "stream",
     "text": [
      "[*********************100%***********************]  1 of 1 completed\n",
      "=   5====WAB ====================\n",
      " 8:\t80.86\t18.97\n",
      " 9:\t83.22\t16.71\n",
      "10:\t85.17\t14.76\n",
      "could not create dataframe for WAB\n",
      "[*********************100%***********************]  1 of 1 completed\n",
      "=   6====WMT ====================\n"
     ]
    },
    {
     "name": "stderr",
     "output_type": "stream",
     "text": [
      "/Users/fahrisurucu/opt/anaconda3/envs/fsx_env/lib/python3.7/site-packages/pandas/core/internals/construction.py:309: VisibleDeprecationWarning: Creating an ndarray from ragged nested sequences (which is a list-or-tuple of lists-or-tuples-or ndarrays with different lengths or shapes) is deprecated. If you meant to do this, you must specify 'dtype=object' when creating the ndarray.\n",
      "  values = np.array([convert(v) for v in values])\n"
     ]
    },
    {
     "name": "stdout",
     "output_type": "stream",
     "text": [
      "[*********************100%***********************]  1 of 1 completed\n",
      "=   7====WBA ====================\n"
     ]
    },
    {
     "name": "stderr",
     "output_type": "stream",
     "text": [
      "/Users/fahrisurucu/opt/anaconda3/envs/fsx_env/lib/python3.7/site-packages/pandas/core/internals/construction.py:309: VisibleDeprecationWarning: Creating an ndarray from ragged nested sequences (which is a list-or-tuple of lists-or-tuples-or ndarrays with different lengths or shapes) is deprecated. If you meant to do this, you must specify 'dtype=object' when creating the ndarray.\n",
      "  values = np.array([convert(v) for v in values])\n"
     ]
    },
    {
     "name": "stdout",
     "output_type": "stream",
     "text": [
      "[*********************100%***********************]  1 of 1 completed\n",
      "=   8====DIS ====================\n",
      "39:\t81.29\t18.71\n",
      "40:\t80.65\t19.35\n",
      "41:\t80.88\t19.12\n",
      "46:\t80.47\t19.47\n"
     ]
    },
    {
     "name": "stderr",
     "output_type": "stream",
     "text": [
      "/Users/fahrisurucu/opt/anaconda3/envs/fsx_env/lib/python3.7/site-packages/pandas/core/internals/construction.py:309: VisibleDeprecationWarning: Creating an ndarray from ragged nested sequences (which is a list-or-tuple of lists-or-tuples-or ndarrays with different lengths or shapes) is deprecated. If you meant to do this, you must specify 'dtype=object' when creating the ndarray.\n",
      "  values = np.array([convert(v) for v in values])\n"
     ]
    },
    {
     "name": "stdout",
     "output_type": "stream",
     "text": [
      "[*********************100%***********************]  1 of 1 completed\n",
      "=   9====WM  ====================\n"
     ]
    },
    {
     "name": "stderr",
     "output_type": "stream",
     "text": [
      "/Users/fahrisurucu/opt/anaconda3/envs/fsx_env/lib/python3.7/site-packages/pandas/core/internals/construction.py:309: VisibleDeprecationWarning: Creating an ndarray from ragged nested sequences (which is a list-or-tuple of lists-or-tuples-or ndarrays with different lengths or shapes) is deprecated. If you meant to do this, you must specify 'dtype=object' when creating the ndarray.\n",
      "  values = np.array([convert(v) for v in values])\n"
     ]
    },
    {
     "name": "stdout",
     "output_type": "stream",
     "text": [
      "[*********************100%***********************]  1 of 1 completed\n",
      "=  10====WAT ====================\n"
     ]
    },
    {
     "name": "stderr",
     "output_type": "stream",
     "text": [
      "/Users/fahrisurucu/opt/anaconda3/envs/fsx_env/lib/python3.7/site-packages/pandas/core/internals/construction.py:309: VisibleDeprecationWarning: Creating an ndarray from ragged nested sequences (which is a list-or-tuple of lists-or-tuples-or ndarrays with different lengths or shapes) is deprecated. If you meant to do this, you must specify 'dtype=object' when creating the ndarray.\n",
      "  values = np.array([convert(v) for v in values])\n"
     ]
    },
    {
     "name": "stdout",
     "output_type": "stream",
     "text": [
      "[*********************100%***********************]  1 of 1 completed\n",
      "=  11====WEC ====================\n"
     ]
    },
    {
     "name": "stderr",
     "output_type": "stream",
     "text": [
      "/Users/fahrisurucu/opt/anaconda3/envs/fsx_env/lib/python3.7/site-packages/pandas/core/internals/construction.py:309: VisibleDeprecationWarning: Creating an ndarray from ragged nested sequences (which is a list-or-tuple of lists-or-tuples-or ndarrays with different lengths or shapes) is deprecated. If you meant to do this, you must specify 'dtype=object' when creating the ndarray.\n",
      "  values = np.array([convert(v) for v in values])\n"
     ]
    },
    {
     "name": "stdout",
     "output_type": "stream",
     "text": [
      "[*********************100%***********************]  1 of 1 completed\n",
      "=  12====WFC ====================\n"
     ]
    },
    {
     "name": "stderr",
     "output_type": "stream",
     "text": [
      "/Users/fahrisurucu/opt/anaconda3/envs/fsx_env/lib/python3.7/site-packages/pandas/core/internals/construction.py:309: VisibleDeprecationWarning: Creating an ndarray from ragged nested sequences (which is a list-or-tuple of lists-or-tuples-or ndarrays with different lengths or shapes) is deprecated. If you meant to do this, you must specify 'dtype=object' when creating the ndarray.\n",
      "  values = np.array([convert(v) for v in values])\n"
     ]
    },
    {
     "name": "stdout",
     "output_type": "stream",
     "text": [
      "[*********************100%***********************]  1 of 1 completed\n",
      "=  13====WELL====================\n"
     ]
    },
    {
     "name": "stderr",
     "output_type": "stream",
     "text": [
      "/Users/fahrisurucu/opt/anaconda3/envs/fsx_env/lib/python3.7/site-packages/pandas/core/internals/construction.py:309: VisibleDeprecationWarning: Creating an ndarray from ragged nested sequences (which is a list-or-tuple of lists-or-tuples-or ndarrays with different lengths or shapes) is deprecated. If you meant to do this, you must specify 'dtype=object' when creating the ndarray.\n",
      "  values = np.array([convert(v) for v in values])\n"
     ]
    },
    {
     "name": "stdout",
     "output_type": "stream",
     "text": [
      "[*********************100%***********************]  1 of 1 completed\n",
      "=  14====WST ====================\n"
     ]
    },
    {
     "name": "stderr",
     "output_type": "stream",
     "text": [
      "/Users/fahrisurucu/opt/anaconda3/envs/fsx_env/lib/python3.7/site-packages/pandas/core/internals/construction.py:309: VisibleDeprecationWarning: Creating an ndarray from ragged nested sequences (which is a list-or-tuple of lists-or-tuples-or ndarrays with different lengths or shapes) is deprecated. If you meant to do this, you must specify 'dtype=object' when creating the ndarray.\n",
      "  values = np.array([convert(v) for v in values])\n"
     ]
    },
    {
     "name": "stdout",
     "output_type": "stream",
     "text": [
      "[*********************100%***********************]  1 of 1 completed\n",
      "=  15====WDC ====================\n"
     ]
    },
    {
     "name": "stderr",
     "output_type": "stream",
     "text": [
      "/Users/fahrisurucu/opt/anaconda3/envs/fsx_env/lib/python3.7/site-packages/pandas/core/internals/construction.py:309: VisibleDeprecationWarning: Creating an ndarray from ragged nested sequences (which is a list-or-tuple of lists-or-tuples-or ndarrays with different lengths or shapes) is deprecated. If you meant to do this, you must specify 'dtype=object' when creating the ndarray.\n",
      "  values = np.array([convert(v) for v in values])\n"
     ]
    },
    {
     "name": "stdout",
     "output_type": "stream",
     "text": [
      "[*********************100%***********************]  1 of 1 completed\n",
      "=  16====WU  ====================\n"
     ]
    },
    {
     "name": "stderr",
     "output_type": "stream",
     "text": [
      "/Users/fahrisurucu/opt/anaconda3/envs/fsx_env/lib/python3.7/site-packages/pandas/core/internals/construction.py:309: VisibleDeprecationWarning: Creating an ndarray from ragged nested sequences (which is a list-or-tuple of lists-or-tuples-or ndarrays with different lengths or shapes) is deprecated. If you meant to do this, you must specify 'dtype=object' when creating the ndarray.\n",
      "  values = np.array([convert(v) for v in values])\n"
     ]
    },
    {
     "name": "stdout",
     "output_type": "stream",
     "text": [
      "[*********************100%***********************]  1 of 1 completed\n",
      "=  17====WRK ====================\n"
     ]
    },
    {
     "name": "stderr",
     "output_type": "stream",
     "text": [
      "/Users/fahrisurucu/opt/anaconda3/envs/fsx_env/lib/python3.7/site-packages/pandas/core/internals/construction.py:309: VisibleDeprecationWarning: Creating an ndarray from ragged nested sequences (which is a list-or-tuple of lists-or-tuples-or ndarrays with different lengths or shapes) is deprecated. If you meant to do this, you must specify 'dtype=object' when creating the ndarray.\n",
      "  values = np.array([convert(v) for v in values])\n"
     ]
    },
    {
     "name": "stdout",
     "output_type": "stream",
     "text": [
      "[*********************100%***********************]  1 of 1 completed\n",
      "=  18====WY  ====================\n"
     ]
    },
    {
     "name": "stderr",
     "output_type": "stream",
     "text": [
      "/Users/fahrisurucu/opt/anaconda3/envs/fsx_env/lib/python3.7/site-packages/pandas/core/internals/construction.py:309: VisibleDeprecationWarning: Creating an ndarray from ragged nested sequences (which is a list-or-tuple of lists-or-tuples-or ndarrays with different lengths or shapes) is deprecated. If you meant to do this, you must specify 'dtype=object' when creating the ndarray.\n",
      "  values = np.array([convert(v) for v in values])\n"
     ]
    },
    {
     "name": "stdout",
     "output_type": "stream",
     "text": [
      "[*********************100%***********************]  1 of 1 completed\n",
      "=  19====WHR ====================\n"
     ]
    },
    {
     "name": "stderr",
     "output_type": "stream",
     "text": [
      "/Users/fahrisurucu/opt/anaconda3/envs/fsx_env/lib/python3.7/site-packages/pandas/core/internals/construction.py:309: VisibleDeprecationWarning: Creating an ndarray from ragged nested sequences (which is a list-or-tuple of lists-or-tuples-or ndarrays with different lengths or shapes) is deprecated. If you meant to do this, you must specify 'dtype=object' when creating the ndarray.\n",
      "  values = np.array([convert(v) for v in values])\n"
     ]
    },
    {
     "name": "stdout",
     "output_type": "stream",
     "text": [
      "[*********************100%***********************]  1 of 1 completed\n",
      "=  20====WMB ====================\n"
     ]
    },
    {
     "name": "stderr",
     "output_type": "stream",
     "text": [
      "/Users/fahrisurucu/opt/anaconda3/envs/fsx_env/lib/python3.7/site-packages/pandas/core/internals/construction.py:309: VisibleDeprecationWarning: Creating an ndarray from ragged nested sequences (which is a list-or-tuple of lists-or-tuples-or ndarrays with different lengths or shapes) is deprecated. If you meant to do this, you must specify 'dtype=object' when creating the ndarray.\n",
      "  values = np.array([convert(v) for v in values])\n"
     ]
    },
    {
     "name": "stdout",
     "output_type": "stream",
     "text": [
      "[*********************100%***********************]  1 of 1 completed\n",
      "=  21====WLTW====================\n",
      "could not create dataframe for WLTW\n",
      "[*********************100%***********************]  1 of 1 completed\n",
      "=  22====WYNN====================\n"
     ]
    },
    {
     "name": "stderr",
     "output_type": "stream",
     "text": [
      "/Users/fahrisurucu/opt/anaconda3/envs/fsx_env/lib/python3.7/site-packages/pandas/core/internals/construction.py:309: VisibleDeprecationWarning: Creating an ndarray from ragged nested sequences (which is a list-or-tuple of lists-or-tuples-or ndarrays with different lengths or shapes) is deprecated. If you meant to do this, you must specify 'dtype=object' when creating the ndarray.\n",
      "  values = np.array([convert(v) for v in values])\n"
     ]
    },
    {
     "name": "stdout",
     "output_type": "stream",
     "text": [
      "[*********************100%***********************]  1 of 1 completed\n",
      "=  23====XEL ====================\n"
     ]
    },
    {
     "name": "stderr",
     "output_type": "stream",
     "text": [
      "/Users/fahrisurucu/opt/anaconda3/envs/fsx_env/lib/python3.7/site-packages/pandas/core/internals/construction.py:309: VisibleDeprecationWarning: Creating an ndarray from ragged nested sequences (which is a list-or-tuple of lists-or-tuples-or ndarrays with different lengths or shapes) is deprecated. If you meant to do this, you must specify 'dtype=object' when creating the ndarray.\n",
      "  values = np.array([convert(v) for v in values])\n"
     ]
    },
    {
     "name": "stdout",
     "output_type": "stream",
     "text": [
      "[*********************100%***********************]  1 of 1 completed\n",
      "=  24====XRX ====================\n"
     ]
    },
    {
     "name": "stderr",
     "output_type": "stream",
     "text": [
      "/Users/fahrisurucu/opt/anaconda3/envs/fsx_env/lib/python3.7/site-packages/pandas/core/internals/construction.py:309: VisibleDeprecationWarning: Creating an ndarray from ragged nested sequences (which is a list-or-tuple of lists-or-tuples-or ndarrays with different lengths or shapes) is deprecated. If you meant to do this, you must specify 'dtype=object' when creating the ndarray.\n",
      "  values = np.array([convert(v) for v in values])\n"
     ]
    },
    {
     "name": "stdout",
     "output_type": "stream",
     "text": [
      "[*********************100%***********************]  1 of 1 completed\n",
      "=  25====XLNX====================\n",
      "could not create dataframe for XLNX\n",
      "[*********************100%***********************]  1 of 1 completed\n",
      "=  26====XYL ====================\n",
      " 6:\t80.91\t19.09\n",
      "40:\t80.4\t19.6\n",
      "41:\t81.45\t18.55\n"
     ]
    },
    {
     "name": "stderr",
     "output_type": "stream",
     "text": [
      "/Users/fahrisurucu/opt/anaconda3/envs/fsx_env/lib/python3.7/site-packages/pandas/core/internals/construction.py:309: VisibleDeprecationWarning: Creating an ndarray from ragged nested sequences (which is a list-or-tuple of lists-or-tuples-or ndarrays with different lengths or shapes) is deprecated. If you meant to do this, you must specify 'dtype=object' when creating the ndarray.\n",
      "  values = np.array([convert(v) for v in values])\n"
     ]
    },
    {
     "name": "stdout",
     "output_type": "stream",
     "text": [
      "[*********************100%***********************]  1 of 1 completed\n",
      "=  27====YUM ====================\n",
      " 6:\t81.59\t18.41\n",
      " 7:\t81.21\t18.79\n",
      " 8:\t85.7\t14.3\n",
      " 9:\t88.79\t11.14\n",
      "10:\t85.61\t14.32\n",
      "11:\t83.79\t16.14\n",
      "12:\t85.36\t14.64\n"
     ]
    },
    {
     "name": "stderr",
     "output_type": "stream",
     "text": [
      "/Users/fahrisurucu/opt/anaconda3/envs/fsx_env/lib/python3.7/site-packages/pandas/core/internals/construction.py:309: VisibleDeprecationWarning: Creating an ndarray from ragged nested sequences (which is a list-or-tuple of lists-or-tuples-or ndarrays with different lengths or shapes) is deprecated. If you meant to do this, you must specify 'dtype=object' when creating the ndarray.\n",
      "  values = np.array([convert(v) for v in values])\n"
     ]
    },
    {
     "name": "stdout",
     "output_type": "stream",
     "text": [
      "[*********************100%***********************]  1 of 1 completed\n",
      "=  28====ZBRA====================\n"
     ]
    },
    {
     "name": "stderr",
     "output_type": "stream",
     "text": [
      "/Users/fahrisurucu/opt/anaconda3/envs/fsx_env/lib/python3.7/site-packages/pandas/core/internals/construction.py:309: VisibleDeprecationWarning: Creating an ndarray from ragged nested sequences (which is a list-or-tuple of lists-or-tuples-or ndarrays with different lengths or shapes) is deprecated. If you meant to do this, you must specify 'dtype=object' when creating the ndarray.\n",
      "  values = np.array([convert(v) for v in values])\n"
     ]
    },
    {
     "name": "stdout",
     "output_type": "stream",
     "text": [
      "[*********************100%***********************]  1 of 1 completed\n",
      "=  29====ZBH ====================\n",
      "47:\t83.86\t16.14\n",
      "48:\t83.77\t16.14\n",
      "49:\t80.68\t19.05\n",
      "50:\t81.36\t18.64\n",
      "51:\t80.45\t19.55\n"
     ]
    },
    {
     "name": "stderr",
     "output_type": "stream",
     "text": [
      "/Users/fahrisurucu/opt/anaconda3/envs/fsx_env/lib/python3.7/site-packages/pandas/core/internals/construction.py:309: VisibleDeprecationWarning: Creating an ndarray from ragged nested sequences (which is a list-or-tuple of lists-or-tuples-or ndarrays with different lengths or shapes) is deprecated. If you meant to do this, you must specify 'dtype=object' when creating the ndarray.\n",
      "  values = np.array([convert(v) for v in values])\n"
     ]
    },
    {
     "name": "stdout",
     "output_type": "stream",
     "text": [
      "[*********************100%***********************]  1 of 1 completed\n",
      "=  30====ZION====================\n"
     ]
    },
    {
     "name": "stderr",
     "output_type": "stream",
     "text": [
      "/Users/fahrisurucu/opt/anaconda3/envs/fsx_env/lib/python3.7/site-packages/pandas/core/internals/construction.py:309: VisibleDeprecationWarning: Creating an ndarray from ragged nested sequences (which is a list-or-tuple of lists-or-tuples-or ndarrays with different lengths or shapes) is deprecated. If you meant to do this, you must specify 'dtype=object' when creating the ndarray.\n",
      "  values = np.array([convert(v) for v in values])\n"
     ]
    },
    {
     "name": "stdout",
     "output_type": "stream",
     "text": [
      "[*********************100%***********************]  1 of 1 completed\n",
      "=  31====ZTS ====================\n",
      "12:\t84.24\t15.76\n",
      "13:\t94.65\t5.35\n",
      "14:\t93.94\t5.86\n",
      "15:\t80.4\t15.56\n",
      "29:\t82.73\t17.27\n",
      "30:\t87.27\t12.73\n",
      "31:\t83.41\t16.36\n",
      "44:\t84.32\t15.68\n"
     ]
    },
    {
     "name": "stderr",
     "output_type": "stream",
     "text": [
      "/Users/fahrisurucu/opt/anaconda3/envs/fsx_env/lib/python3.7/site-packages/pandas/core/internals/construction.py:309: VisibleDeprecationWarning: Creating an ndarray from ragged nested sequences (which is a list-or-tuple of lists-or-tuples-or ndarrays with different lengths or shapes) is deprecated. If you meant to do this, you must specify 'dtype=object' when creating the ndarray.\n",
      "  values = np.array([convert(v) for v in values])\n"
     ]
    }
   ],
   "source": [
    "#hide\n",
    "db_path = '/Users/fahrisurucu/Projects/my_data/'\n",
    "ticker_path = '/Users/fahrisurucu/Projects/my_secrets/sp500_20210613.tsv'\n",
    "tickers = pd.read_csv(ticker_path, sep='\\t').loc[:, 'ticker'].to_list()\n",
    "build_weekly_db(tickers[480:], db_path, '1990-01-01')"
   ]
  },
  {
   "cell_type": "code",
   "execution_count": null,
   "metadata": {},
   "outputs": [
    {
     "name": "stdout",
     "output_type": "stream",
     "text": [
      "[*********************100%***********************]  1 of 1 completed\n"
     ]
    },
    {
     "data": {
      "text/html": [
       "<div>\n",
       "<style scoped>\n",
       "    .dataframe tbody tr th:only-of-type {\n",
       "        vertical-align: middle;\n",
       "    }\n",
       "\n",
       "    .dataframe tbody tr th {\n",
       "        vertical-align: top;\n",
       "    }\n",
       "\n",
       "    .dataframe thead th {\n",
       "        text-align: right;\n",
       "    }\n",
       "</style>\n",
       "<table border=\"1\" class=\"dataframe\">\n",
       "  <thead>\n",
       "    <tr style=\"text-align: right;\">\n",
       "      <th></th>\n",
       "      <th>Open</th>\n",
       "      <th>High</th>\n",
       "      <th>Low</th>\n",
       "      <th>Close</th>\n",
       "      <th>adj_close</th>\n",
       "      <th>Volume</th>\n",
       "    </tr>\n",
       "    <tr>\n",
       "      <th>Date</th>\n",
       "      <th></th>\n",
       "      <th></th>\n",
       "      <th></th>\n",
       "      <th></th>\n",
       "      <th></th>\n",
       "      <th></th>\n",
       "    </tr>\n",
       "  </thead>\n",
       "  <tbody>\n",
       "    <tr>\n",
       "      <th>2020-09-24</th>\n",
       "      <td>36.00</td>\n",
       "      <td>36.0</td>\n",
       "      <td>34.00</td>\n",
       "      <td>34.0</td>\n",
       "      <td>33.975784</td>\n",
       "      <td>743500</td>\n",
       "    </tr>\n",
       "    <tr>\n",
       "      <th>2020-09-28</th>\n",
       "      <td>35.00</td>\n",
       "      <td>35.0</td>\n",
       "      <td>33.00</td>\n",
       "      <td>33.0</td>\n",
       "      <td>32.976494</td>\n",
       "      <td>150500</td>\n",
       "    </tr>\n",
       "    <tr>\n",
       "      <th>2020-09-29</th>\n",
       "      <td>30.50</td>\n",
       "      <td>30.5</td>\n",
       "      <td>30.50</td>\n",
       "      <td>30.5</td>\n",
       "      <td>30.478275</td>\n",
       "      <td>220200</td>\n",
       "    </tr>\n",
       "    <tr>\n",
       "      <th>2020-09-30</th>\n",
       "      <td>30.75</td>\n",
       "      <td>31.0</td>\n",
       "      <td>30.75</td>\n",
       "      <td>31.0</td>\n",
       "      <td>30.977919</td>\n",
       "      <td>21900</td>\n",
       "    </tr>\n",
       "    <tr>\n",
       "      <th>2020-10-01</th>\n",
       "      <td>34.00</td>\n",
       "      <td>34.0</td>\n",
       "      <td>34.00</td>\n",
       "      <td>34.0</td>\n",
       "      <td>33.975784</td>\n",
       "      <td>43600</td>\n",
       "    </tr>\n",
       "  </tbody>\n",
       "</table>\n",
       "</div>"
      ],
      "text/plain": [
       "             Open  High    Low  Close  adj_close  Volume\n",
       "Date                                                    \n",
       "2020-09-24  36.00  36.0  34.00   34.0  33.975784  743500\n",
       "2020-09-28  35.00  35.0  33.00   33.0  32.976494  150500\n",
       "2020-09-29  30.50  30.5  30.50   30.5  30.478275  220200\n",
       "2020-09-30  30.75  31.0  30.75   31.0  30.977919   21900\n",
       "2020-10-01  34.00  34.0  34.00   34.0  33.975784   43600"
      ]
     },
     "execution_count": null,
     "metadata": {},
     "output_type": "execute_result"
    }
   ],
   "source": [
    "prices = get_history_yf('VNT')\n",
    "prices.head()"
   ]
  },
  {
   "cell_type": "code",
   "execution_count": null,
   "metadata": {},
   "outputs": [
    {
     "name": "stdout",
     "output_type": "stream",
     "text": [
      " 2:\t0.0\t100.0\n",
      " 3:\t0.0\t100.0\n",
      " 4:\t0.0\t100.0\n",
      " 5:\t0.0\t100.0\n",
      " 6:\t0.0\t100.0\n",
      " 7:\t4.55\t95.45\n",
      "10:\t98.18\t1.82\n",
      "11:\t100.0\t0.0\n",
      "12:\t100.0\t0.0\n",
      "13:\t100.0\t0.0\n",
      "14:\t98.18\t0.0\n"
     ]
    },
    {
     "ename": "AttributeError",
     "evalue": "'DataFrame' object has no attribute 'up_conf'",
     "output_type": "error",
     "traceback": [
      "\u001b[0;31m---------------------------------------------------------------------------\u001b[0m",
      "\u001b[0;31mAttributeError\u001b[0m                            Traceback (most recent call last)",
      "\u001b[0;32m<ipython-input-67-981ef94fee01>\u001b[0m in \u001b[0;36m<module>\u001b[0;34m\u001b[0m\n\u001b[0;32m----> 1\u001b[0;31m \u001b[0mrets\u001b[0m\u001b[0;34m,\u001b[0m \u001b[0mmeans\u001b[0m \u001b[0;34m=\u001b[0m \u001b[0mweekly_returns\u001b[0m\u001b[0;34m(\u001b[0m\u001b[0mprices\u001b[0m\u001b[0;34m)\u001b[0m\u001b[0;34m\u001b[0m\u001b[0;34m\u001b[0m\u001b[0m\n\u001b[0m",
      "\u001b[0;32m<ipython-input-62-c909d5298911>\u001b[0m in \u001b[0;36mweekly_returns\u001b[0;34m(df)\u001b[0m\n\u001b[1;32m     53\u001b[0m         \u001b[0mrets\u001b[0m\u001b[0;34m[\u001b[0m\u001b[0mweek\u001b[0m\u001b[0;34m]\u001b[0m \u001b[0;34m=\u001b[0m \u001b[0mpd\u001b[0m\u001b[0;34m.\u001b[0m\u001b[0mDataFrame\u001b[0m\u001b[0;34m(\u001b[0m\u001b[0mrets\u001b[0m\u001b[0;34m[\u001b[0m\u001b[0mweek\u001b[0m\u001b[0;34m]\u001b[0m\u001b[0;34m)\u001b[0m\u001b[0;34m\u001b[0m\u001b[0;34m\u001b[0m\u001b[0m\n\u001b[1;32m     54\u001b[0m \u001b[0;34m\u001b[0m\u001b[0m\n\u001b[0;32m---> 55\u001b[0;31m         \u001b[0mup_mean\u001b[0m \u001b[0;34m=\u001b[0m \u001b[0mround\u001b[0m\u001b[0;34m(\u001b[0m\u001b[0mrets\u001b[0m\u001b[0;34m[\u001b[0m\u001b[0mweek\u001b[0m\u001b[0;34m]\u001b[0m\u001b[0;34m.\u001b[0m\u001b[0mup_conf\u001b[0m\u001b[0;34m.\u001b[0m\u001b[0mmean\u001b[0m\u001b[0;34m(\u001b[0m\u001b[0;34m)\u001b[0m\u001b[0;34m,\u001b[0m \u001b[0;36m2\u001b[0m\u001b[0;34m)\u001b[0m\u001b[0;34m\u001b[0m\u001b[0;34m\u001b[0m\u001b[0m\n\u001b[0m\u001b[1;32m     56\u001b[0m         \u001b[0mdn_mean\u001b[0m \u001b[0;34m=\u001b[0m \u001b[0mround\u001b[0m\u001b[0;34m(\u001b[0m\u001b[0mrets\u001b[0m\u001b[0;34m[\u001b[0m\u001b[0mweek\u001b[0m\u001b[0;34m]\u001b[0m\u001b[0;34m.\u001b[0m\u001b[0mdn_conf\u001b[0m\u001b[0;34m.\u001b[0m\u001b[0mmean\u001b[0m\u001b[0;34m(\u001b[0m\u001b[0;34m)\u001b[0m\u001b[0;34m,\u001b[0m \u001b[0;36m2\u001b[0m\u001b[0;34m)\u001b[0m\u001b[0;34m\u001b[0m\u001b[0;34m\u001b[0m\u001b[0m\n\u001b[1;32m     57\u001b[0m         \u001b[0mmeans\u001b[0m\u001b[0;34m.\u001b[0m\u001b[0mappend\u001b[0m\u001b[0;34m(\u001b[0m\u001b[0;34m{\u001b[0m\u001b[0;34m'week'\u001b[0m\u001b[0;34m:\u001b[0m \u001b[0mweek\u001b[0m\u001b[0;34m,\u001b[0m \u001b[0;34m'up_mean'\u001b[0m\u001b[0;34m:\u001b[0m \u001b[0mup_mean\u001b[0m\u001b[0;34m,\u001b[0m \u001b[0;34m'dn_mean'\u001b[0m\u001b[0;34m:\u001b[0m \u001b[0mdn_mean\u001b[0m\u001b[0;34m}\u001b[0m\u001b[0;34m)\u001b[0m\u001b[0;34m\u001b[0m\u001b[0;34m\u001b[0m\u001b[0m\n",
      "\u001b[0;32m~/opt/anaconda3/envs/fsx_env/lib/python3.7/site-packages/pandas/core/generic.py\u001b[0m in \u001b[0;36m__getattr__\u001b[0;34m(self, name)\u001b[0m\n\u001b[1;32m   5463\u001b[0m             \u001b[0;32mif\u001b[0m \u001b[0mself\u001b[0m\u001b[0;34m.\u001b[0m\u001b[0m_info_axis\u001b[0m\u001b[0;34m.\u001b[0m\u001b[0m_can_hold_identifiers_and_holds_name\u001b[0m\u001b[0;34m(\u001b[0m\u001b[0mname\u001b[0m\u001b[0;34m)\u001b[0m\u001b[0;34m:\u001b[0m\u001b[0;34m\u001b[0m\u001b[0;34m\u001b[0m\u001b[0m\n\u001b[1;32m   5464\u001b[0m                 \u001b[0;32mreturn\u001b[0m \u001b[0mself\u001b[0m\u001b[0;34m[\u001b[0m\u001b[0mname\u001b[0m\u001b[0;34m]\u001b[0m\u001b[0;34m\u001b[0m\u001b[0;34m\u001b[0m\u001b[0m\n\u001b[0;32m-> 5465\u001b[0;31m             \u001b[0;32mreturn\u001b[0m \u001b[0mobject\u001b[0m\u001b[0;34m.\u001b[0m\u001b[0m__getattribute__\u001b[0m\u001b[0;34m(\u001b[0m\u001b[0mself\u001b[0m\u001b[0;34m,\u001b[0m \u001b[0mname\u001b[0m\u001b[0;34m)\u001b[0m\u001b[0;34m\u001b[0m\u001b[0;34m\u001b[0m\u001b[0m\n\u001b[0m\u001b[1;32m   5466\u001b[0m \u001b[0;34m\u001b[0m\u001b[0m\n\u001b[1;32m   5467\u001b[0m     \u001b[0;32mdef\u001b[0m \u001b[0m__setattr__\u001b[0m\u001b[0;34m(\u001b[0m\u001b[0mself\u001b[0m\u001b[0;34m,\u001b[0m \u001b[0mname\u001b[0m\u001b[0;34m:\u001b[0m \u001b[0mstr\u001b[0m\u001b[0;34m,\u001b[0m \u001b[0mvalue\u001b[0m\u001b[0;34m)\u001b[0m \u001b[0;34m->\u001b[0m \u001b[0;32mNone\u001b[0m\u001b[0;34m:\u001b[0m\u001b[0;34m\u001b[0m\u001b[0;34m\u001b[0m\u001b[0m\n",
      "\u001b[0;31mAttributeError\u001b[0m: 'DataFrame' object has no attribute 'up_conf'"
     ]
    }
   ],
   "source": [
    "rets, means = weekly_returns(prices)"
   ]
  },
  {
   "cell_type": "code",
   "execution_count": null,
   "metadata": {},
   "outputs": [
    {
     "name": "stdout",
     "output_type": "stream",
     "text": [
      "2\n",
      " 2:\t0.0\t100.0\n",
      "3\n",
      " 3:\t0.0\t100.0\n",
      "4\n",
      " 4:\t0.0\t100.0\n",
      "5\n",
      " 5:\t0.0\t100.0\n",
      "6\n",
      " 6:\t0.0\t100.0\n",
      "7\n",
      " 7:\t4.55\t95.45\n",
      "8\n",
      "9\n",
      "10\n",
      "10:\t98.18\t1.82\n",
      "11\n",
      "11:\t100.0\t0.0\n",
      "12\n",
      "12:\t100.0\t0.0\n",
      "13\n",
      "13:\t100.0\t0.0\n",
      "14\n",
      "14:\t98.18\t0.0\n",
      "15\n",
      "16\n",
      "17\n",
      "18\n",
      "19\n",
      "20\n",
      "21\n",
      "22\n",
      "23\n",
      "24\n",
      "25\n",
      "26\n",
      "27\n",
      "28\n",
      "29\n",
      "30\n",
      "31\n",
      "32\n",
      "33\n",
      "34\n",
      "35\n",
      "36\n",
      "37\n",
      "38\n",
      "39\n",
      "39:\t9.09\t90.91\n",
      "40\n",
      "41\n",
      "42\n",
      "42:\t100.0\t0.0\n",
      "43\n",
      "43:\t100.0\t0.0\n",
      "44\n",
      "44:\t100.0\t0.0\n",
      "45\n",
      "45:\t100.0\t0.0\n",
      "46\n",
      "46:\t100.0\t0.0\n",
      "47\n",
      "47:\t100.0\t0.0\n",
      "48\n",
      "49\n",
      "50\n",
      "50:\t98.18\t1.82\n",
      "51\n"
     ]
    }
   ],
   "source": [
    "df = prices\n",
    "if True:\n",
    "    \"\"\"\n",
    "    Processes the daily adjusted close prices to produce 35 to 45 week forward\n",
    "    performances\n",
    "    \"\"\"\n",
    "    df.loc[:, 'year'] = df.index.isocalendar().year\n",
    "    df.loc[:, 'week'] = pd.Int64Index(df.index.isocalendar().week)\n",
    "    for n in range(35, 46):\n",
    "        df.loc[:, f'forward{n}'] = df.loc[:, 'adj_close'].shift(-n) / df.loc[:, 'adj_close']\n",
    "\n",
    "    rets, forwards, means = {}, {}, []\n",
    "    for week in range(2, 52):\n",
    "        print(week)\n",
    "        if week not in df.week.unique(): continue\n",
    "        forwards[week] = df.loc[df.week == week,\n",
    "                                ['forward35', 'forward36', 'forward37',\n",
    "                                 'forward38', 'forward39', 'forward40',\n",
    "                                 'forward41', 'forward42', 'forward43',\n",
    "                                 'forward44', 'forward45', 'year']]\n",
    "\n",
    "        years = sorted(forwards[week].year.unique())\n",
    "        rets[week] = []\n",
    "        for year in years:\n",
    "            returns = []\n",
    "            for n in range(35,46):\n",
    "                returns.extend(forwards[week].loc[(forwards[week].year == year), f'forward{n}'].tolist())\n",
    "            rets[week].append({\n",
    "                'year': year,\n",
    "                'min': min(returns),\n",
    "                'max': max(returns),\n",
    "                'mean': np.mean(returns),\n",
    "                'std': np.std(returns),\n",
    "                'up_conf': np.sum([1 for r in returns if r > 1]) / len(returns) * 100,\n",
    "                'dn_conf': np.sum([1 for r in returns if r < 1]) / len(returns) * 100\n",
    "            })\n",
    "        rets[week] = pd.DataFrame(rets[week])\n",
    "\n",
    "        up_mean = round(rets[week].up_conf.mean(), 2)\n",
    "        dn_mean = round(rets[week].dn_conf.mean(), 2)\n",
    "        means.append({'week': week, 'up_mean': up_mean, 'dn_mean': dn_mean})\n",
    "        if up_mean > 80 or dn_mean > 80:\n",
    "            print(f'{week:2}:\\t{up_mean}\\t{dn_mean}')"
   ]
  },
  {
   "cell_type": "code",
   "execution_count": null,
   "metadata": {},
   "outputs": [
    {
     "data": {
      "text/plain": [
       "dict_keys([2, 3, 4, 5, 6, 7, 8, 9, 10, 11, 12, 13, 14, 15, 16, 17, 18, 19, 20, 21, 22, 23, 24])"
      ]
     },
     "execution_count": null,
     "metadata": {},
     "output_type": "execute_result"
    }
   ],
   "source": [
    "rets.keys()"
   ]
  },
  {
   "cell_type": "code",
   "execution_count": null,
   "metadata": {},
   "outputs": [
    {
     "name": "stderr",
     "output_type": "stream",
     "text": [
      "/Users/fahrisurucu/opt/anaconda3/envs/fsx_env/lib/python3.7/site-packages/pandas/core/internals/construction.py:309: VisibleDeprecationWarning: Creating an ndarray from ragged nested sequences (which is a list-or-tuple of lists-or-tuples-or ndarrays with different lengths or shapes) is deprecated. If you meant to do this, you must specify 'dtype=object' when creating the ndarray.\n",
      "  values = np.array([convert(v) for v in values])\n"
     ]
    }
   ],
   "source": [
    "ticker = 'AAPL'\n",
    "pd.DataFrame.from_dict(rets, orient='index').to_csv(f'{db_path}/rets/{ticker}.csv', header=False)"
   ]
  },
  {
   "cell_type": "code",
   "execution_count": null,
   "metadata": {},
   "outputs": [],
   "source": []
  }
 ],
 "metadata": {
  "kernelspec": {
   "display_name": "Python [conda env:fsx_env]",
   "language": "python",
   "name": "conda-env-fsx_env-py"
  }
 },
 "nbformat": 4,
 "nbformat_minor": 2
}
