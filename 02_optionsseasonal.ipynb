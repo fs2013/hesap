{
 "cells": [
  {
   "cell_type": "code",
   "execution_count": null,
   "metadata": {},
   "outputs": [
    {
     "name": "stdout",
     "output_type": "stream",
     "text": [
      "The autoreload extension is already loaded. To reload it, use:\n",
      "  %reload_ext autoreload\n"
     ]
    }
   ],
   "source": [
    "%load_ext autoreload\n",
    "%autoreload 2"
   ]
  },
  {
   "cell_type": "code",
   "execution_count": null,
   "metadata": {},
   "outputs": [],
   "source": [
    "# default_exp optionsseasonal"
   ]
  },
  {
   "cell_type": "markdown",
   "metadata": {},
   "source": [
    "# optionsseasonal\n",
    "\n",
    "> seasonal equity performance is used to guestimate performance probability"
   ]
  },
  {
   "cell_type": "code",
   "execution_count": null,
   "metadata": {},
   "outputs": [],
   "source": [
    "#hide\n",
    "from nbdev.showdoc import *\n",
    "from hesap.pricedata import get_history_yf, get_history\n",
    "from hesap.config import get_config"
   ]
  },
  {
   "cell_type": "code",
   "execution_count": null,
   "metadata": {},
   "outputs": [],
   "source": [
    "#export\n",
    "\n",
    "\"\"\"This module contains methods to create and update daily price and weekly\n",
    "performance for the desired assets locally. Also for a given week, the most\n",
    "optimal assets (with highest performance probability based on the history)\n",
    "are identified for possible MattChoi's type option strategy.\n",
    "by faf\n",
    "Copyright 2021 Fafs\n",
    "License: http://creativecommons.org/licenses/by/4.0/\n",
    "\"\"\"\n",
    "\n",
    "import os\n",
    "\n",
    "import numpy as np\n",
    "import pandas as pd\n",
    "\n",
    "from typing import List\n",
    "\n",
    "\n",
    "def weekly_returns(df):\n",
    "    \"\"\"\n",
    "    Processes the daily adjusted close prices to produce 35 to 45 week forward\n",
    "    performances\n",
    "    \"\"\"\n",
    "    df.loc[:, 'year'] = df.index.isocalendar().year\n",
    "    df.loc[:, 'week'] = pd.Int64Index(df.index.isocalendar().week)\n",
    "    for n in range(35, 46):\n",
    "        df.loc[:, f'forward{n}'] = df.loc[:, 'adj_close'].shift(-n) / df.loc[:, 'adj_close']\n",
    "\n",
    "    rets, forwards, means = {}, {}, []\n",
    "    for week in range(2, 52):\n",
    "        if week not in df.week.unique(): continue\n",
    "        forwards[week] = df.loc[df.week == week,\n",
    "                                ['forward35', 'forward36', 'forward37',\n",
    "                                 'forward38', 'forward39', 'forward40',\n",
    "                                 'forward41', 'forward42', 'forward43',\n",
    "                                 'forward44', 'forward45', 'year']]\n",
    "\n",
    "        years = sorted(forwards[week].year.unique())\n",
    "        rets[week] = []\n",
    "        for year in years:\n",
    "            returns = []\n",
    "            for n in range(35,46):\n",
    "                returns.extend(forwards[week].loc[(forwards[week].year == year), f'forward{n}'].tolist())\n",
    "            rets[week].append({\n",
    "                'year': year,\n",
    "                'min': min(returns),\n",
    "                'max': max(returns),\n",
    "                'mean': np.mean(returns),\n",
    "                'std': np.std(returns),\n",
    "                'up_conf': np.sum([1 for r in returns if r > 1]) / len(returns) * 100,\n",
    "                'dn_conf': np.sum([1 for r in returns if r < 1]) / len(returns) * 100\n",
    "            })\n",
    "        rets[week] = pd.DataFrame(rets[week])\n",
    "\n",
    "        up_mean = round(rets[week].up_conf.mean(), 2)\n",
    "        dn_mean = round(rets[week].dn_conf.mean(), 2)\n",
    "        means.append({'week': week, 'up_mean': up_mean, 'dn_mean': dn_mean})\n",
    "        if up_mean > 80 or dn_mean > 80:\n",
    "            print(f'{week:2}:\\t{up_mean}\\t{dn_mean}')\n",
    "    return rets, means\n",
    "\n",
    "\n",
    "def build_weekly_db(tickers: List[str],\n",
    "                    db_path: str,\n",
    "                    start_date: str = '2000-01-01'\n",
    "                   ) -> None:\n",
    "    if tickers is None or len(tickers) == 0: return\n",
    "    for d in [db_path, f'{db_path}/prices', f'{db_path}/rets',\n",
    "              f'{db_path}/mean_rets']:\n",
    "        os.makedirs(d, exist_ok=True)\n",
    "    for i, ticker in enumerate(tickers):\n",
    "        prices = get_history_yf(ticker.replace('.', '-'),\n",
    "                                start_date=start_date)\n",
    "        prices.to_csv(f'{db_path}/prices/{ticker}.csv')\n",
    "        print(f'={i+1:4}{\"=\"*4}{ticker:4}{\"=\"*20}')\n",
    "        rets, means = weekly_returns(prices)\n",
    "\n",
    "        try:\n",
    "            pd.DataFrame.from_dict(data=rets, orient='index').to_csv(f'{db_path}/rets/{ticker}.csv', header=False)\n",
    "            pd.DataFrame(means).to_csv(f'{db_path}/mean_rets/{ticker}.csv')\n",
    "        except:\n",
    "            print(f'could not create dataframe for {ticker}')"
   ]
  },
  {
   "cell_type": "code",
   "execution_count": null,
   "metadata": {},
   "outputs": [
    {
     "name": "stdout",
     "output_type": "stream",
     "text": [
      "db_path:\t/Users/fahrisurucu/Projects/my_data/\n",
      "ticker_path:\t/Users/fahrisurucu/Projects/my_secrets/sp500_20210613.tsv\n",
      "['MMM', 'ABT', 'ABBV', 'ABMD', 'ACN', 'ATVI', 'ADBE', 'AMD', 'AAP', 'AES', 'AFL', 'A', 'APD', 'AKAM', 'ALK', 'ALB', 'ARE', 'ALXN', 'ALGN', 'ALLE', 'LNT', 'ALL', 'GOOGL', 'MO', 'AMZN', 'AMCR', 'AEE', 'AAL', 'AEP', 'AXP', 'AIG', 'AMT', 'AWK', 'AMP', 'ABC', 'AME', 'AMGN', 'APH', 'ADI', 'ANSS', 'ANTM', 'AON', 'AOS', 'APA', 'AAPL', 'AMAT', 'APTV', 'ADM', 'ANET', 'AJG', 'AIZ', 'T', 'ATO', 'ADSK', 'ADP', 'AZO', 'AVB', 'AVY', 'BKR', 'BLL', 'BAC', 'BK', 'BAX', 'BDX', 'BRK.B', 'BBY', 'BIO', 'BIIB', 'BLK', 'BA', 'BKNG', 'BWA', 'BXP', 'BSX', 'BMY', 'AVGO', 'BR', 'CHRW', 'BA', 'BKNG', 'BWA', 'BXP', 'BSX', 'BMY', 'AVGO', 'BR', 'BF.B', 'CHRW', 'COG', 'CDNS', 'CPB', 'COF', 'CAH', 'KMX', 'CCL', 'CARR', 'CTLT', 'CAT', 'CBOE', 'CBRE', 'CDW', 'CE', 'CNC', 'CNP', 'CERN', 'CF', 'SCHW', 'CHTR', 'CVX', 'CMG', 'CB', 'CHD', 'CI', 'CINF', 'CTAS', 'CSCO', 'C', 'CFG', 'CTXS', 'CLX', 'CME', 'CMS', 'KO', 'CTSH', 'CL', 'CMCSA', 'CMA', 'CAG', 'COP', 'ED', 'STZ', 'COO', 'CPRT', 'GLW', 'CTVA', 'COST', 'CCI', 'CSX', 'CMI', 'CVS', 'DHI', 'DHR', 'DRI', 'DVA', 'DE', 'DAL', 'XRAY', 'DVN', 'DXCM', 'FANG', 'DLR', 'DFS', 'DISCA', 'DISCK', 'DISH', 'DG', 'DLTR', 'D', 'DPZ', 'DOV', 'DOW', 'DTE', 'DUK', 'DRE', 'DD', 'DXC', 'EMN', 'ETN', 'EBAY', 'ECL', 'EIX', 'EW', 'EA', 'EMR', 'ENPH', 'ETR', 'EOG', 'EFX', 'EQIX', 'EQR', 'ESS', 'EL', 'ETSY', 'EVRG', 'ES', 'RE', 'EXC', 'EXPE', 'EXPD', 'EXR', 'XOM', 'FFIV', 'FB', 'FAST', 'FRT', 'FDX', 'FIS', 'FITB', 'FE', 'FRC', 'FISV', 'FLT', 'FLIR', 'FLS', 'FMC', 'F', 'FTNT', 'FTV', 'FBHS', 'FOX', 'BEN', 'FCX', 'GPS', 'GRMN', 'IT', 'GD', 'GE', 'GIS', 'GM', 'GPC', 'GILD', 'GL', 'GPN', 'GS', 'GWW', 'HAL', 'HBI', 'HIG', 'HAS', 'HCA', 'PEAK', 'HSIC', 'HSY', 'HES', 'HPE', 'HLT', 'HFC', 'HOLX', 'HD', 'HON', 'HRL', 'HST', 'HWM', 'HPQ', 'HUM', 'HBAN', 'HII', 'IEX', 'IDXX', 'INFO', 'ITW', 'ILMN', 'INCY', 'IR', 'INTC', 'ICE', 'IBM', 'IP', 'IPG', 'IFF', 'INTU', 'ISRG', 'IVZ', 'IPGP', 'IQV', 'IRM', 'JKHY', 'J', 'JBHT', 'SJM', 'JNJ', 'JCI', 'JPM', 'JNPR', 'KSU', 'K', 'KEY', 'KEYS', 'KMB', 'KIM', 'KMI', 'KLAC', 'KHC', 'KR', 'LB', 'LHX', 'LH', 'LRCX', 'LW', 'LVS', 'LEG', 'LDOS', 'LEN', 'LLY', 'LNC', 'LIN', 'LYV', 'LKQ', 'LMT', 'L', 'LOW', 'LUMN', 'LYB', 'MTB', 'MRO', 'MPC', 'MKTX', 'MAR', 'MMC', 'MLM', 'MAS', 'MA', 'MKC', 'MXIM', 'MCD', 'MCK', 'MDT', 'MRK', 'MET', 'MTD', 'MGM', 'MCHP', 'MU', 'MSFT', 'MAA', 'MHK', 'TAP', 'MDLZ', 'MPWR', 'MNST', 'MCO', 'MS', 'MOS', 'MSI', 'MSCI', 'NDAQ', 'NTAP', 'NFLX', 'NWL', 'NEM', 'NWS', 'NEE', 'NLSN', 'NKE', 'NI', 'NSC', 'NTRS', 'NOC', 'NLOK', 'NCLH', 'NOV', 'NRG', 'NUE', 'NVDA', 'NVR', 'ORLY', 'OXY', 'ODFL', 'OMC', 'OKE', 'ORCL', 'OTIS', 'PCAR', 'PKG', 'PH', 'PAYX', 'PAYC', 'PYPL', 'PNR', 'PBCT', 'PEP', 'PKI', 'PRGO', 'PFE', 'PM', 'PSX', 'PNW', 'PXD', 'PNC', 'POOL', 'PPG', 'PPL', 'PFG', 'PG', 'PGR', 'PLD', 'PRU', 'PEG', 'PSA', 'PHM', 'PVH', 'QRVO', 'PWR', 'QCOM', 'DGX', 'RL', 'RJF', 'RTX', 'O', 'REG', 'REGN', 'RF', 'RSG', 'RMD', 'RHI', 'ROK', 'ROL', 'ROP', 'ROST', 'RCL', 'SPGI', 'CRM', 'SBAC', 'SLB', 'STX', 'SEE', 'SRE', 'NOW', 'SHW', 'SPG', 'SWKS', 'SLG', 'SNA', 'SO', 'LUV', 'SWK', 'SBUX', 'STT', 'STE', 'SYK', 'SIVB', 'SYF', 'SNPS', 'SYY', 'TMUS', 'TROW', 'TTWO', 'TPR', 'TGT', 'TEL', 'TDY', 'TFX', 'TER', 'TSLA', 'TXN', 'TXT', 'TMO', 'TJX', 'TSCO', 'TT', 'TDG', 'TRV', 'TRMB', 'TFC', 'TWTR', 'TYL', 'TSN', 'UDR', 'ULTA', 'USB', 'UAA', 'UA', 'UNP', 'UAL', 'UNH', 'UPS', 'URI', 'UHS', 'UNM', 'VLO', 'VAR', 'VTR', 'VRSN', 'VRSK', 'VZ', 'VRTX', 'VFC', 'VIAC', 'VTRS', 'V', 'VNT', 'VNO', 'VMC', 'WRB', 'WAB', 'WMT', 'WBA', 'DIS', 'WM', 'WAT', 'WEC', 'WFC', 'WELL', 'WST', 'WDC', 'WU', 'WRK', 'WY', 'WHR', 'WMB', 'WLTW', 'WYNN', 'XEL', 'XRX', 'XLNX', 'XYL', 'YUM', 'ZBRA', 'ZBH', 'ZION', 'ZTS']\n"
     ]
    }
   ],
   "source": [
    "#hide\n",
    "cfg = get_config('../my_secrets/options_weekly.yml')\n",
    "for k in cfg:\n",
    "    print(f'{k}:\\t{cfg[k]}')\n",
    "tickers = pd.read_csv(cfg['ticker_path'], sep='\\t').loc[:, 'ticker'].to_list()\n",
    "print(tickers)\n",
    "# build_weekly_db(tickers, cfg['db_path'], '1990-01-01')"
   ]
  },
  {
   "cell_type": "code",
   "execution_count": null,
   "metadata": {},
   "outputs": [
    {
     "name": "stdout",
     "output_type": "stream",
     "text": [
      "[*********************100%***********************]  1 of 1 completed\n"
     ]
    },
    {
     "data": {
      "text/html": [
       "<div>\n",
       "<style scoped>\n",
       "    .dataframe tbody tr th:only-of-type {\n",
       "        vertical-align: middle;\n",
       "    }\n",
       "\n",
       "    .dataframe tbody tr th {\n",
       "        vertical-align: top;\n",
       "    }\n",
       "\n",
       "    .dataframe thead th {\n",
       "        text-align: right;\n",
       "    }\n",
       "</style>\n",
       "<table border=\"1\" class=\"dataframe\">\n",
       "  <thead>\n",
       "    <tr style=\"text-align: right;\">\n",
       "      <th></th>\n",
       "      <th>Open</th>\n",
       "      <th>High</th>\n",
       "      <th>Low</th>\n",
       "      <th>Close</th>\n",
       "      <th>adj_close</th>\n",
       "      <th>Volume</th>\n",
       "    </tr>\n",
       "    <tr>\n",
       "      <th>Date</th>\n",
       "      <th></th>\n",
       "      <th></th>\n",
       "      <th></th>\n",
       "      <th></th>\n",
       "      <th></th>\n",
       "      <th></th>\n",
       "    </tr>\n",
       "  </thead>\n",
       "  <tbody>\n",
       "    <tr>\n",
       "      <th>2020-09-24</th>\n",
       "      <td>36.00</td>\n",
       "      <td>36.0</td>\n",
       "      <td>34.00</td>\n",
       "      <td>34.0</td>\n",
       "      <td>33.975784</td>\n",
       "      <td>743500</td>\n",
       "    </tr>\n",
       "    <tr>\n",
       "      <th>2020-09-28</th>\n",
       "      <td>35.00</td>\n",
       "      <td>35.0</td>\n",
       "      <td>33.00</td>\n",
       "      <td>33.0</td>\n",
       "      <td>32.976494</td>\n",
       "      <td>150500</td>\n",
       "    </tr>\n",
       "    <tr>\n",
       "      <th>2020-09-29</th>\n",
       "      <td>30.50</td>\n",
       "      <td>30.5</td>\n",
       "      <td>30.50</td>\n",
       "      <td>30.5</td>\n",
       "      <td>30.478275</td>\n",
       "      <td>220200</td>\n",
       "    </tr>\n",
       "    <tr>\n",
       "      <th>2020-09-30</th>\n",
       "      <td>30.75</td>\n",
       "      <td>31.0</td>\n",
       "      <td>30.75</td>\n",
       "      <td>31.0</td>\n",
       "      <td>30.977919</td>\n",
       "      <td>21900</td>\n",
       "    </tr>\n",
       "    <tr>\n",
       "      <th>2020-10-01</th>\n",
       "      <td>34.00</td>\n",
       "      <td>34.0</td>\n",
       "      <td>34.00</td>\n",
       "      <td>34.0</td>\n",
       "      <td>33.975784</td>\n",
       "      <td>43600</td>\n",
       "    </tr>\n",
       "  </tbody>\n",
       "</table>\n",
       "</div>"
      ],
      "text/plain": [
       "             Open  High    Low  Close  adj_close  Volume\n",
       "Date                                                    \n",
       "2020-09-24  36.00  36.0  34.00   34.0  33.975784  743500\n",
       "2020-09-28  35.00  35.0  33.00   33.0  32.976494  150500\n",
       "2020-09-29  30.50  30.5  30.50   30.5  30.478275  220200\n",
       "2020-09-30  30.75  31.0  30.75   31.0  30.977919   21900\n",
       "2020-10-01  34.00  34.0  34.00   34.0  33.975784   43600"
      ]
     },
     "execution_count": null,
     "metadata": {},
     "output_type": "execute_result"
    }
   ],
   "source": [
    "prices = get_history_yf('VNT')\n",
    "prices.head()"
   ]
  },
  {
   "cell_type": "code",
   "execution_count": null,
   "metadata": {},
   "outputs": [],
   "source": []
  }
 ],
 "metadata": {
  "kernelspec": {
   "display_name": "Python [conda env:fsx_env]",
   "language": "python",
   "name": "conda-env-fsx_env-py"
  }
 },
 "nbformat": 4,
 "nbformat_minor": 2
}
