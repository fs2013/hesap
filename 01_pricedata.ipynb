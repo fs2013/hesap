{
 "cells": [
  {
   "cell_type": "code",
   "execution_count": null,
   "metadata": {},
   "outputs": [],
   "source": [
    "# default_exp pricedata"
   ]
  },
  {
   "cell_type": "markdown",
   "metadata": {},
   "source": [
    "# pricedata\n",
    "\n",
    "> pricedata is used to download/store/process equity price data"
   ]
  },
  {
   "cell_type": "code",
   "execution_count": null,
   "metadata": {},
   "outputs": [],
   "source": [
    "#hide\n",
    "from nbdev.showdoc import *"
   ]
  },
  {
   "cell_type": "code",
   "execution_count": null,
   "metadata": {},
   "outputs": [],
   "source": [
    "#export\n",
    "\n",
    "\"\"\"This module contains two methods of downloading price history\n",
    "Yahoo Finance and Alpha Vantage are the data providers used\n",
    "by faf\n",
    "Copyright 2021 Fafs\n",
    "License: http://creativecommons.org/licenses/by/4.0/\n",
    "\"\"\"\n",
    "\n",
    "import numpy as np\n",
    "import pandas as pd\n",
    "import yfinance as yf\n",
    "\n",
    "from alpha_vantage.timeseries import TimeSeries\n",
    "\n",
    "from typing import List\n",
    "\n",
    "\n",
    "def get_history_yf(assets: List=None, \n",
    "                   start_date: str='2000-01-01',\n",
    "                   end_date: str=None) -> pd.DataFrame:\n",
    "    \"\"\"\n",
    "    Gets price history of list of assets from Yahoo Finance.\n",
    "    The price data contains the following:\n",
    "    Open, High, Low, Close, Adj Close, Volume\n",
    "\n",
    "    -assets: (list of str) Asset symbols\n",
    "    -start_date: (str) Starting Date\n",
    "    -end_date: (str) End Date (Excluded)\n",
    "    \n",
    "    return: (dict of pandas.DataFrame) price history of assets\n",
    "    \"\"\"\n",
    "    if end_date is None:\n",
    "        data = yf.download(assets, start_date)\n",
    "    else:\n",
    "        data = yf.download(assets, start_date, end_date)\n",
    "    data.rename(columns={'Adj Close': 'adj_close'}, inplace=True)\n",
    "    return data\n",
    "\n",
    "\n",
    "my_key = 'file' #open('../my_secrets/AlphaVantageKey').readline().strip()\n",
    "ts = TimeSeries(key=my_key, output_format=\"pandas\")\n",
    "\n",
    "def get_history(assets: List=None, verbose: bool=True) -> pd.DataFrame:\n",
    "    \"\"\"\n",
    "    Gets price history of list of assets from Alpha Vantage. \n",
    "    The price data contains the following:\n",
    "    open, high, low, close, adj_close, volume, dividend, and split_coef\n",
    "\n",
    "    -assets: (list of str) Asset symbols\n",
    "    \n",
    "    -verbose: (bool) if True print some logs\n",
    "    \n",
    "    return: (dict of pandas.DataFrame) price history of assets\n",
    "    \"\"\"\n",
    "    prices = {}\n",
    "    for i, asset in enumerate(assets):\n",
    "        if verbose: print(asset)\n",
    "        if len(asset) > 0:\n",
    "            if i and i % 5 == 0:\n",
    "                if verbose: print(\"5 assets loaded. waiting 60 seconds per AV api frequency limitations\")\n",
    "                sleep(60)\n",
    "            data, meta_data = ts.get_daily_adjusted(asset, outputsize='full')\n",
    "            if verbose: print(meta_data)\n",
    "            if data.index.name.lower() == 'date':\n",
    "                prices[asset] = data.rename(columns={\n",
    "                    '1. open': 'open',\n",
    "                    '2. high': 'high',\n",
    "                    '3. low': 'low',\n",
    "                    '4. close': 'close',\n",
    "                    '5. adjusted close': 'adj_close',\n",
    "                    '6. volume': 'volume',\n",
    "                    '7. dividend amount': 'dividend',\n",
    "                    '8. split coefficient': 'split_coef'}).sort_index()\n",
    "            else:\n",
    "                prices[asset] = data.rename(columns={\n",
    "                    '1. open': 'open',\n",
    "                    '2. high': 'high',\n",
    "                    '3. low': 'low',\n",
    "                    '4. close': 'close',\n",
    "                    '5. adjusted close': 'adj_close',\n",
    "                    '6. volume': 'volume',\n",
    "                    '7. dividend amount': 'dividend',\n",
    "                    '8. split coefficient': 'split_coef'}).sort_values(by='date', ascending=True)\n",
    "    return prices"
   ]
  },
  {
   "cell_type": "code",
   "execution_count": null,
   "metadata": {},
   "outputs": [
    {
     "data": {
      "text/markdown": [
       "<h4 id=\"get_history_yf\" class=\"doc_header\"><code>get_history_yf</code><a href=\"__main__.py#L19\" class=\"source_link\" style=\"float:right\">[source]</a></h4>\n",
       "\n",
       "> <code>get_history_yf</code>(**`assets`**:`List`\\[`T`\\]=*`None`*, **`start_date`**:`str`=*`'2000-01-01'`*, **`end_date`**:`str`=*`None`*)\n",
       "\n",
       "Gets price history of list of assets from Yahoo Finance.\n",
       "The price data contains the following:\n",
       "Open, High, Low, Close, Adj Close, Volume\n",
       "\n",
       "-assets: (list of str) Asset symbols\n",
       "-start_date: (str) Starting Date\n",
       "-end_date: (str) End Date (Excluded)\n",
       "\n",
       "return: (dict of pandas.DataFrame) price history of assets"
      ],
      "text/plain": [
       "<IPython.core.display.Markdown object>"
      ]
     },
     "metadata": {},
     "output_type": "display_data"
    }
   ],
   "source": [
    "show_doc(get_history_yf)"
   ]
  },
  {
   "cell_type": "code",
   "execution_count": null,
   "metadata": {},
   "outputs": [
    {
     "data": {
      "text/markdown": [
       "<h4 id=\"get_history\" class=\"doc_header\"><code>get_history</code><a href=\"__main__.py#L44\" class=\"source_link\" style=\"float:right\">[source]</a></h4>\n",
       "\n",
       "> <code>get_history</code>(**`assets`**:`List`\\[`T`\\]=*`None`*, **`verbose`**:`bool`=*`True`*)\n",
       "\n",
       "Gets price history of list of assets from Alpha Vantage. \n",
       "The price data contains the following:\n",
       "open, high, low, close, adj_close, volume, dividend, and split_coef\n",
       "\n",
       "-assets: (list of str) Asset symbols\n",
       "\n",
       "-verbose: (bool) if True print some logs\n",
       "\n",
       "return: (dict of pandas.DataFrame) price history of assets"
      ],
      "text/plain": [
       "<IPython.core.display.Markdown object>"
      ]
     },
     "metadata": {},
     "output_type": "display_data"
    }
   ],
   "source": [
    "show_doc(get_history)"
   ]
  },
  {
   "cell_type": "code",
   "execution_count": null,
   "metadata": {},
   "outputs": [
    {
     "name": "stdout",
     "output_type": "stream",
     "text": [
      "[*********************100%***********************]  1 of 1 completed\n"
     ]
    },
    {
     "data": {
      "text/html": [
       "<div>\n",
       "<style scoped>\n",
       "    .dataframe tbody tr th:only-of-type {\n",
       "        vertical-align: middle;\n",
       "    }\n",
       "\n",
       "    .dataframe tbody tr th {\n",
       "        vertical-align: top;\n",
       "    }\n",
       "\n",
       "    .dataframe thead th {\n",
       "        text-align: right;\n",
       "    }\n",
       "</style>\n",
       "<table border=\"1\" class=\"dataframe\">\n",
       "  <thead>\n",
       "    <tr style=\"text-align: right;\">\n",
       "      <th></th>\n",
       "      <th>Open</th>\n",
       "      <th>High</th>\n",
       "      <th>Low</th>\n",
       "      <th>Close</th>\n",
       "      <th>adj_close</th>\n",
       "      <th>Volume</th>\n",
       "    </tr>\n",
       "    <tr>\n",
       "      <th>Date</th>\n",
       "      <th></th>\n",
       "      <th></th>\n",
       "      <th></th>\n",
       "      <th></th>\n",
       "      <th></th>\n",
       "      <th></th>\n",
       "    </tr>\n",
       "  </thead>\n",
       "  <tbody>\n",
       "    <tr>\n",
       "      <th>2021-06-07</th>\n",
       "      <td>422.589996</td>\n",
       "      <td>422.779999</td>\n",
       "      <td>421.190002</td>\n",
       "      <td>422.190002</td>\n",
       "      <td>422.190002</td>\n",
       "      <td>51555000</td>\n",
       "    </tr>\n",
       "    <tr>\n",
       "      <th>2021-06-08</th>\n",
       "      <td>423.109985</td>\n",
       "      <td>423.209991</td>\n",
       "      <td>420.320007</td>\n",
       "      <td>422.279999</td>\n",
       "      <td>422.279999</td>\n",
       "      <td>47134300</td>\n",
       "    </tr>\n",
       "  </tbody>\n",
       "</table>\n",
       "</div>"
      ],
      "text/plain": [
       "                  Open        High         Low       Close   adj_close  \\\n",
       "Date                                                                     \n",
       "2021-06-07  422.589996  422.779999  421.190002  422.190002  422.190002   \n",
       "2021-06-08  423.109985  423.209991  420.320007  422.279999  422.279999   \n",
       "\n",
       "              Volume  \n",
       "Date                  \n",
       "2021-06-07  51555000  \n",
       "2021-06-08  47134300  "
      ]
     },
     "execution_count": null,
     "metadata": {},
     "output_type": "execute_result"
    }
   ],
   "source": [
    "spy = get_history_yf('SPY', start_date='2021-06-07', end_date='2021-06-09')\n",
    "spy.head()"
   ]
  },
  {
   "cell_type": "code",
   "execution_count": null,
   "metadata": {},
   "outputs": [],
   "source": [
    "diff = spy.loc[spy.index[-1], 'Close'] - spy.loc[spy.index[-2], 'Close']\n",
    "assert np.abs(diff - 0.09) < 0.001"
   ]
  },
  {
   "cell_type": "code",
   "execution_count": null,
   "metadata": {},
   "outputs": [],
   "source": []
  }
 ],
 "metadata": {
  "kernelspec": {
   "display_name": "Python [conda env:fsx_env]",
   "language": "python",
   "name": "conda-env-fsx_env-py"
  }
 },
 "nbformat": 4,
 "nbformat_minor": 2
}
