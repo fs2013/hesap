{
 "cells": [
  {
   "cell_type": "code",
   "execution_count": null,
   "metadata": {},
   "outputs": [],
   "source": [
    "%load_ext autoreload\n",
    "%autoreload 2"
   ]
  },
  {
   "cell_type": "code",
   "execution_count": null,
   "metadata": {},
   "outputs": [],
   "source": [
    "# default_exp config"
   ]
  },
  {
   "cell_type": "markdown",
   "metadata": {},
   "source": [
    "# config\n",
    "\n",
    "> idea is to load my own secret whenever needed"
   ]
  },
  {
   "cell_type": "code",
   "execution_count": null,
   "metadata": {},
   "outputs": [],
   "source": [
    "#hide\n",
    "from nbdev.showdoc import *"
   ]
  },
  {
   "cell_type": "code",
   "execution_count": null,
   "metadata": {},
   "outputs": [],
   "source": [
    "#export\n",
    "\n",
    "\"\"\"This module contains a simple method to access personal secret config\n",
    "parameters that are stored in .yml file\n",
    "by faf\n",
    "Copyright 2021 Fafs\n",
    "License: http://creativecommons.org/licenses/by/4.0/\n",
    "\"\"\"\n",
    "\n",
    "import pyyaml\n",
    "\n",
    "\n",
    "def get_config(config_filename: str):\n",
    "    \"\"\"\n",
    "    Get config parameters in a dict using yaml\n",
    "    \"\"\"\n",
    "    with open(config_filename, \"r\") as ymlfile:\n",
    "        cfg = yaml.load(ymlfile, Loader=yaml.SafeLoader)\n",
    "    return cfg"
   ]
  },
  {
   "cell_type": "code",
   "execution_count": null,
   "metadata": {},
   "outputs": [
    {
     "name": "stdout",
     "output_type": "stream",
     "text": [
      "mysql   :\t{'host': 'localhost', 'user': 'root', 'passwd': 'my secret password', 'db': 'write-math'}\n",
      "other   :\t{'preprocessing_queue': ['preprocessing.scale_and_center', 'preprocessing.dot_reduction', 'preprocessing.connect_lines'], 'use_anonymous': True}\n"
     ]
    }
   ],
   "source": [
    "sample_str = \"\"\"\n",
    "mysql:\n",
    "    host: localhost\n",
    "    user: root\n",
    "    passwd: my secret password\n",
    "    db: write-math\n",
    "other:\n",
    "    preprocessing_queue:\n",
    "        - preprocessing.scale_and_center\n",
    "        - preprocessing.dot_reduction\n",
    "        - preprocessing.connect_lines\n",
    "    use_anonymous: yes\n",
    "\"\"\"\n",
    "open('../my_secrets/sample_config.yml', 'wt').write(sample_str)\n",
    "cfg = get_config('../my_secrets/sample_config.yml')\n",
    "\n",
    "for section in cfg:\n",
    "    print(f'{section:8}:\\t{cfg[section]}')"
   ]
  },
  {
   "cell_type": "code",
   "execution_count": null,
   "metadata": {},
   "outputs": [
    {
     "data": {
      "text/markdown": [
       "<h4 id=\"get_config\" class=\"doc_header\"><code>get_config</code><a href=\"__main__.py#L13\" class=\"source_link\" style=\"float:right\">[source]</a></h4>\n",
       "\n",
       "> <code>get_config</code>(**`config_filename`**:`str`)\n",
       "\n",
       "Get config parameters in a dict using yaml"
      ],
      "text/plain": [
       "<IPython.core.display.Markdown object>"
      ]
     },
     "metadata": {},
     "output_type": "display_data"
    }
   ],
   "source": [
    "show_doc(get_config)"
   ]
  },
  {
   "cell_type": "code",
   "execution_count": null,
   "metadata": {},
   "outputs": [],
   "source": []
  }
 ],
 "metadata": {
  "kernelspec": {
   "display_name": "Python [conda env:fsx_env]",
   "language": "python",
   "name": "conda-env-fsx_env-py"
  }
 },
 "nbformat": 4,
 "nbformat_minor": 2
}
